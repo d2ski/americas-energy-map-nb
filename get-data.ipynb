{
 "cells": [
  {
   "cell_type": "code",
   "execution_count": 1,
   "metadata": {},
   "outputs": [],
   "source": [
    "import pandas as pd\n",
    "import numpy as np\n",
    "import time\n",
    "\n",
    "import json\n",
    "import requests"
   ]
  },
  {
   "cell_type": "code",
   "execution_count": 2,
   "metadata": {},
   "outputs": [],
   "source": [
    "def api_url2(params):\n",
    "    '''\n",
    "    Helper to create request string\n",
    "    '''\n",
    "    API_ENDPOINT = 'https://comtrade.un.org/api/get?'\n",
    "    \n",
    "    url = []\n",
    "    for k, v in params.items():\n",
    "        if isinstance(v, list):\n",
    "           url.append(\n",
    "               '{k}={v}'.format(k=k, v='%2C'.join(str(vi) for vi in v))\n",
    "           )\n",
    "        else:\n",
    "            url.append('{k}={v}'.format(k=k, v=v))\n",
    "    \n",
    "    return API_ENDPOINT + '&'.join(url)"
   ]
  },
  {
   "cell_type": "code",
   "execution_count": 3,
   "metadata": {},
   "outputs": [],
   "source": [
    "OIL_CODE = 270900\n",
    "\n",
    "params = {\n",
    "    'max': 1000,\n",
    "    'type': 'C',\n",
    "    'freq': 'A',\n",
    "    'px': 'H1',    # HS 1996\n",
    "    'ps': 2020,   # year\n",
    "    'r': 842,    # USA\n",
    "    'p': \"all\",   # Partner code separated by comma , 381, 112, 156, 804\n",
    "    'rg': \"all\",    # 1 - Import, 2 - Export [1, 2], all\n",
    "    'cc': OIL_CODE,\n",
    "    'fmt': 'csv'\n",
    "}"
   ]
  },
  {
   "cell_type": "code",
   "execution_count": 4,
   "metadata": {},
   "outputs": [],
   "source": [
    "json_csv_cols = {\n",
    "    'yr': 'Year',\n",
    "    'rgDesc': 'Trade Flow',\n",
    "    'rtTitle': 'Reporter',\n",
    "    'rtCode': 'Reporter Code',\n",
    "    'rt3ISO': 'Reporter ISO',\n",
    "    'ptTitle': 'Partner',\n",
    "    'ptCode': 'Partner Code',\n",
    "    'pt3ISO': 'Partner ISO',\n",
    "    'TradeValue': 'Trade Value (US$)',\n",
    "    'cmdDescE': 'Commodity',\n",
    "    'cmdCode': 'Commodity Code'\n",
    "}\n",
    "\n",
    "cols = [\n",
    "    'Year',\n",
    "    'Trade Flow',\n",
    "    'Reporter',\n",
    "    'Reporter Code',\n",
    "    'Reporter ISO',\n",
    "    'Partner',\n",
    "    'Partner Code',\n",
    "    'Partner ISO',\n",
    "    'Trade Value (US$)',\n",
    "    'Commodity',\n",
    "    'Commodity Code',\n",
    "    'Qty',\n",
    "    'Qty Unit'\n",
    "]"
   ]
  },
  {
   "cell_type": "code",
   "execution_count": 5,
   "metadata": {},
   "outputs": [],
   "source": [
    "countries = [\n",
    "    {'id': '660', 'text': 'Anguilla'}, {'id': '28', 'text': 'Antigua and Barbuda'}, {'id': '32', 'text': 'Argentina'}, {'id': '533', 'text': 'Aruba'},\n",
    "    {'id': '44', 'text': 'Bahamas'}, {'id': '52', 'text': 'Barbados'}, {'id': '84', 'text': 'Belize'}, {'id': '60', 'text': 'Bermuda'},\n",
    "    {'id': '68', 'text': 'Bolivia (Plurinational State of)'}, {'id': '535', 'text': 'Bonaire'}, {'id': '76', 'text': 'Brazil'},\n",
    "    {'id': '92', 'text': 'Br. Virgin Isds'}, {'id': '124', 'text': 'Canada'}, {'id': '136', 'text': 'Cayman Isds'}, {'id': '152', 'text': 'Chile'},\n",
    "    {'id': '170', 'text': 'Colombia'}, {'id': '188', 'text': 'Costa Rica'}, {'id': '192', 'text': 'Cuba'},\n",
    "    {'id': '531', 'text': 'Curaçao'}, {'id': '212', 'text': 'Dominica'}, {'id': '214', 'text': 'Dominican Rep.'}, {'id': '218', 'text': 'Ecuador'},\n",
    "    {'id': '222', 'text': 'El Salvador'}, {'id': '238', 'text': 'Falkland Isds (Malvinas)'}, {'id': '254', 'text': 'French Guiana'}, {'id': '304', 'text': 'Greenland'},\n",
    "    {'id': '308', 'text': 'Grenada'}, {'id': '312', 'text': 'Guadeloupe'}, {'id': '320', 'text': 'Guatemala'}, {'id': '328', 'text': 'Guyana'},\n",
    "    {'id': '332', 'text': 'Haiti'}, {'id': '340', 'text': 'Honduras'}, {'id': '388', 'text': 'Jamaica'}, {'id': '474', 'text': 'Martinique'},\n",
    "    {'id': '484', 'text': 'Mexico'}, {'id': '500', 'text': 'Montserrat'}, {'id': '558', 'text': 'Nicaragua'}, {'id': '591', 'text': 'Panama'},\n",
    "    {'id': '600', 'text': 'Paraguay'}, {'id': '604', 'text': 'Peru'}, {'id': '461', 'text': 'Sabah'}, {'id': '652', 'text': 'Saint Barthelemy'},\n",
    "    {'id': '659', 'text': 'Saint Kitts and Nevis'}, {'id': '658', 'text': 'Saint Kitts, Nevis and Anguilla'}, {'id': '662', 'text': 'Saint Lucia'},\n",
    "    {'id': '534', 'text': 'Saint Maarten'}, {'id': '666', 'text': 'Saint Pierre and Miquelon'}, {'id': '670', 'text': 'Saint Vincent and the Grenadines'},\n",
    "    {'id': '740', 'text': 'Suriname'}, {'id': '780', 'text': 'Trinidad and Tobago'}, {'id': '796', 'text': 'Turks and Caicos Isds'},\n",
    "    {'id': '858', 'text': 'Uruguay'}, {'id': '850', 'text': 'US Virgin Isds'}, {'id': '842', 'text': 'USA'}, {'id': '841', 'text': 'USA (before 1981)'},\n",
    "    {'id': '862', 'text': 'Venezuela'},\n",
    "]"
   ]
  },
  {
   "cell_type": "code",
   "execution_count": 43,
   "metadata": {},
   "outputs": [
    {
     "data": {
      "text/plain": [
       "56"
      ]
     },
     "execution_count": 43,
     "metadata": {},
     "output_type": "execute_result"
    }
   ],
   "source": [
    "len(countries)"
   ]
  },
  {
   "cell_type": "code",
   "execution_count": 4,
   "metadata": {},
   "outputs": [
    {
     "data": {
      "text/plain": [
       "'https://comtrade.un.org/api/get?max=5000&type=C&freq=A&px=HS&ps=2020&r=842&p=all&rg=1%2C2&cc=270900&fmt=csv'"
      ]
     },
     "execution_count": 4,
     "metadata": {},
     "output_type": "execute_result"
    }
   ],
   "source": [
    "api_url2(params)"
   ]
  },
  {
   "cell_type": "code",
   "execution_count": 6,
   "metadata": {},
   "outputs": [],
   "source": [
    "reporter_codes = [ c['id'] for c in countries]\n",
    "\n",
    "reporters_chunks = []\n",
    "for i in range(0, len(reporter_codes), 5):\n",
    "    reporters_chunks.append(reporter_codes[i:i+5])\n",
    "    \n",
    "years_chunks = []\n",
    "years = list(range(2013, 2022))\n",
    "for i in range(0, len(years), 5):\n",
    "    years_chunks.append(years[i:i+5])"
   ]
  },
  {
   "cell_type": "code",
   "execution_count": 8,
   "metadata": {},
   "outputs": [
    {
     "data": {
      "text/plain": [
       "[[2013, 2014, 2015, 2016, 2017], [2018, 2019, 2020, 2021]]"
      ]
     },
     "execution_count": 8,
     "metadata": {},
     "output_type": "execute_result"
    }
   ],
   "source": [
    "years_chunks"
   ]
  },
  {
   "cell_type": "code",
   "execution_count": 7,
   "metadata": {},
   "outputs": [
    {
     "data": {
      "text/plain": [
       "[['660', '28', '32', '533', '44'],\n",
       " ['52', '84', '60', '68', '535'],\n",
       " ['76', '92', '124', '136', '152'],\n",
       " ['170', '188', '192', '531', '212'],\n",
       " ['214', '218', '222', '238', '254'],\n",
       " ['304', '308', '312', '320', '328'],\n",
       " ['332', '340', '388', '474', '484'],\n",
       " ['500', '558', '591', '600', '604'],\n",
       " ['461', '652', '659', '658', '662'],\n",
       " ['534', '666', '670', '740', '780'],\n",
       " ['796', '858', '850', '842', '841'],\n",
       " ['862']]"
      ]
     },
     "execution_count": 7,
     "metadata": {},
     "output_type": "execute_result"
    }
   ],
   "source": [
    "reporters_chunks"
   ]
  },
  {
   "cell_type": "code",
   "execution_count": 15,
   "metadata": {},
   "outputs": [
    {
     "name": "stdout",
     "output_type": "stream",
     "text": [
      "https://comtrade.un.org/api/get?max=1000&type=C&freq=A&px=H1&ps=2013%2C2014%2C2015%2C2016%2C2017&r=660%2C28%2C32%2C533%2C44&p=all&rg=all&cc=270900&fmt=csv\n",
      "Req\n",
      "Records: 71\n",
      "https://comtrade.un.org/api/get?max=1000&type=C&freq=A&px=H1&ps=2013%2C2014%2C2015%2C2016%2C2017&r=52%2C84%2C60%2C68%2C535&p=all&rg=all&cc=270900&fmt=csv\n",
      "Req\n",
      "Records: 80\n",
      "https://comtrade.un.org/api/get?max=1000&type=C&freq=A&px=H1&ps=2013%2C2014%2C2015%2C2016%2C2017&r=76%2C92%2C124%2C136%2C152&p=all&rg=all&cc=270900&fmt=csv\n",
      "Req\n",
      "Records: 482\n",
      "https://comtrade.un.org/api/get?max=1000&type=C&freq=A&px=H1&ps=2013%2C2014%2C2015%2C2016%2C2017&r=170%2C188%2C192%2C531%2C212&p=all&rg=all&cc=270900&fmt=csv\n",
      "Req\n",
      "Records: 200\n",
      "https://comtrade.un.org/api/get?max=1000&type=C&freq=A&px=H1&ps=2013%2C2014%2C2015%2C2016%2C2017&r=214%2C218%2C222%2C238%2C254&p=all&rg=all&cc=270900&fmt=csv\n",
      "Req\n",
      "Records: 125\n",
      "https://comtrade.un.org/api/get?max=1000&type=C&freq=A&px=H1&ps=2013%2C2014%2C2015%2C2016%2C2017&r=304%2C308%2C312%2C320%2C328&p=all&rg=all&cc=270900&fmt=csv\n",
      "Req\n",
      "Records: 64\n",
      "https://comtrade.un.org/api/get?max=1000&type=C&freq=A&px=H1&ps=2013%2C2014%2C2015%2C2016%2C2017&r=332%2C340%2C388%2C474%2C484&p=all&rg=all&cc=270900&fmt=csv\n",
      "Req\n",
      "Records: 139\n",
      "https://comtrade.un.org/api/get?max=1000&type=C&freq=A&px=H1&ps=2013%2C2014%2C2015%2C2016%2C2017&r=500%2C558%2C591%2C600%2C604&p=all&rg=all&cc=270900&fmt=csv\n",
      "Req\n",
      "Records: 144\n",
      "https://comtrade.un.org/api/get?max=1000&type=C&freq=A&px=H1&ps=2013%2C2014%2C2015%2C2016%2C2017&r=461%2C652%2C659%2C658%2C662&p=all&rg=all&cc=270900&fmt=csv\n",
      "Req\n",
      "Records: 19\n",
      "https://comtrade.un.org/api/get?max=1000&type=C&freq=A&px=H1&ps=2013%2C2014%2C2015%2C2016%2C2017&r=534%2C666%2C670%2C740%2C780&p=all&rg=all&cc=270900&fmt=csv\n",
      "Req\n",
      "Records: 95\n",
      "https://comtrade.un.org/api/get?max=1000&type=C&freq=A&px=H1&ps=2013%2C2014%2C2015%2C2016%2C2017&r=796%2C858%2C850%2C842%2C841&p=all&rg=all&cc=270900&fmt=csv\n",
      "Req\n",
      "Records: 359\n",
      "https://comtrade.un.org/api/get?max=1000&type=C&freq=A&px=H1&ps=2013%2C2014%2C2015%2C2016%2C2017&r=862&p=all&rg=all&cc=270900&fmt=csv\n",
      "Req\n",
      "Records: 7\n",
      "Save to file: data/trade-value-270900-2013-2014-2015-2016-2017.csv\n",
      "https://comtrade.un.org/api/get?max=1000&type=C&freq=A&px=H1&ps=2018%2C2019%2C2020%2C2021&r=660%2C28%2C32%2C533%2C44&p=all&rg=all&cc=270900&fmt=csv\n",
      "Req\n",
      "Records: 40\n",
      "https://comtrade.un.org/api/get?max=1000&type=C&freq=A&px=H1&ps=2018%2C2019%2C2020%2C2021&r=52%2C84%2C60%2C68%2C535&p=all&rg=all&cc=270900&fmt=csv\n",
      "Req\n",
      "Records: 48\n",
      "https://comtrade.un.org/api/get?max=1000&type=C&freq=A&px=H1&ps=2018%2C2019%2C2020%2C2021&r=76%2C92%2C124%2C136%2C152&p=all&rg=all&cc=270900&fmt=csv\n",
      "Req\n",
      "Records: 357\n",
      "https://comtrade.un.org/api/get?max=1000&type=C&freq=A&px=H1&ps=2018%2C2019%2C2020%2C2021&r=170%2C188%2C192%2C531%2C212&p=all&rg=all&cc=270900&fmt=csv\n",
      "Req\n",
      "Records: 130\n",
      "https://comtrade.un.org/api/get?max=1000&type=C&freq=A&px=H1&ps=2018%2C2019%2C2020%2C2021&r=214%2C218%2C222%2C238%2C254&p=all&rg=all&cc=270900&fmt=csv\n",
      "Req\n",
      "Records: 96\n",
      "https://comtrade.un.org/api/get?max=1000&type=C&freq=A&px=H1&ps=2018%2C2019%2C2020%2C2021&r=304%2C308%2C312%2C320%2C328&p=all&rg=all&cc=270900&fmt=csv\n",
      "Req\n",
      "Records: 66\n",
      "https://comtrade.un.org/api/get?max=1000&type=C&freq=A&px=H1&ps=2018%2C2019%2C2020%2C2021&r=332%2C340%2C388%2C474%2C484&p=all&rg=all&cc=270900&fmt=csv\n",
      "Req\n",
      "Records: 62\n",
      "https://comtrade.un.org/api/get?max=1000&type=C&freq=A&px=H1&ps=2018%2C2019%2C2020%2C2021&r=500%2C558%2C591%2C600%2C604&p=all&rg=all&cc=270900&fmt=csv\n",
      "Req\n",
      "Records: 76\n",
      "https://comtrade.un.org/api/get?max=1000&type=C&freq=A&px=H1&ps=2018%2C2019%2C2020%2C2021&r=461%2C652%2C659%2C658%2C662&p=all&rg=all&cc=270900&fmt=csv\n",
      "Req\n",
      "Records: 2\n",
      "https://comtrade.un.org/api/get?max=1000&type=C&freq=A&px=H1&ps=2018%2C2019%2C2020%2C2021&r=534%2C666%2C670%2C740%2C780&p=all&rg=all&cc=270900&fmt=csv\n",
      "Req\n",
      "Records: 67\n",
      "https://comtrade.un.org/api/get?max=1000&type=C&freq=A&px=H1&ps=2018%2C2019%2C2020%2C2021&r=796%2C858%2C850%2C842%2C841&p=all&rg=all&cc=270900&fmt=csv\n",
      "Req\n",
      "Records: 375\n",
      "https://comtrade.un.org/api/get?max=1000&type=C&freq=A&px=H1&ps=2018%2C2019%2C2020%2C2021&r=862&p=all&rg=all&cc=270900&fmt=csv\n",
      "Req\n",
      "Records: 1\n",
      "Save to file: data/trade-value-270900-2018-2019-2020-2021.csv\n"
     ]
    }
   ],
   "source": [
    "params['cc'] = OIL_CODE\n",
    "\n",
    "for years in years_chunks:\n",
    "    data = []\n",
    "    params['ps'] = years\n",
    "    \n",
    "    for reporters in reporters_chunks:\n",
    "        params['r'] = reporters\n",
    "        \n",
    "        print(api_url2(params))\n",
    "        \n",
    "        try:\n",
    "            print('Req')\n",
    "            df = pd.read_csv(api_url2(params), usecols=cols)\n",
    "            print('Records:', len(df))\n",
    "            data.append(df)\n",
    "        except Exception as e:\n",
    "            print('Failed')\n",
    "            \n",
    "        time.sleep(10)\n",
    "        \n",
    "    filename = 'data/trade-value-{cc}-{years}.csv'.format(\n",
    "        cc=params['cc'],\n",
    "        years= '-'.join(map(lambda x: str(x), years))\n",
    "    )\n",
    "    print('Save to file:', filename)\n",
    "    \n",
    "    pd.concat(data).to_csv(\n",
    "        filename,\n",
    "        index=False\n",
    "    )"
   ]
  },
  {
   "cell_type": "markdown",
   "metadata": {},
   "source": [
    "### MERGE ALL FILES IN ONE"
   ]
  },
  {
   "cell_type": "code",
   "execution_count": 21,
   "metadata": {},
   "outputs": [],
   "source": [
    "oil_trade = pd.concat([\n",
    "    pd.read_csv('data/trade-value-270900-2011.csv'),\n",
    "    pd.read_csv('data/trade-value-270900-2012.csv'),\n",
    "    pd.read_csv('data/trade-value-270900-2013-2014-2015-2016-2017.csv'),\n",
    "    pd.read_csv('data/trade-value-270900-2018-2019-2020-2021.csv'),\n",
    "])\n",
    "\n",
    "oil_trade.dropna(axis=0, how='all', inplace=True)\n",
    "oil_trade.reset_index(drop=True, inplace=True)"
   ]
  },
  {
   "cell_type": "code",
   "execution_count": 23,
   "metadata": {},
   "outputs": [],
   "source": [
    "oil_trade.to_csv('data/americas-oil-trade-2011-2021.csv', index=False)"
   ]
  },
  {
   "cell_type": "code",
   "execution_count": null,
   "metadata": {},
   "outputs": [],
   "source": []
  }
 ],
 "metadata": {
  "kernelspec": {
   "display_name": "Python 3",
   "language": "python",
   "name": "python3"
  },
  "language_info": {
   "codemirror_mode": {
    "name": "ipython",
    "version": 3
   },
   "file_extension": ".py",
   "mimetype": "text/x-python",
   "name": "python",
   "nbconvert_exporter": "python",
   "pygments_lexer": "ipython3",
   "version": "3.7.3"
  }
 },
 "nbformat": 4,
 "nbformat_minor": 4
}
